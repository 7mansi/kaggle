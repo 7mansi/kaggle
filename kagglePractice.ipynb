{
  "nbformat": 4,
  "nbformat_minor": 0,
  "metadata": {
    "colab": {
      "provenance": [],
      "authorship_tag": "ABX9TyOgV2GFcWQUO6JOeU/gySJC",
      "include_colab_link": true
    },
    "kernelspec": {
      "name": "python3",
      "display_name": "Python 3"
    },
    "language_info": {
      "name": "python"
    }
  },
  "cells": [
    {
      "cell_type": "markdown",
      "metadata": {
        "id": "view-in-github",
        "colab_type": "text"
      },
      "source": [
        "<a href=\"https://colab.research.google.com/github/7mansi/kaggle/blob/playground-series/kagglePractice.ipynb\" target=\"_parent\"><img src=\"https://colab.research.google.com/assets/colab-badge.svg\" alt=\"Open In Colab\"/></a>"
      ]
    },
    {
      "cell_type": "code",
      "execution_count": 1,
      "metadata": {
        "id": "0GpFZiJL0hFG"
      },
      "outputs": [],
      "source": [
        "!pip install -q kaggle\n"
      ]
    },
    {
      "cell_type": "code",
      "source": [
        "from google.colab import files\n",
        "files.upload()"
      ],
      "metadata": {
        "colab": {
          "base_uri": "https://localhost:8080/",
          "height": 91
        },
        "id": "m-EuGx_C29GO",
        "outputId": "085f3a35-d93b-4f7c-f278-a70f7562ec27"
      },
      "execution_count": 3,
      "outputs": [
        {
          "output_type": "display_data",
          "data": {
            "text/plain": [
              "<IPython.core.display.HTML object>"
            ],
            "text/html": [
              "\n",
              "     <input type=\"file\" id=\"files-f8c90780-2846-4305-9671-4e47f4f17f19\" name=\"files[]\" multiple disabled\n",
              "        style=\"border:none\" />\n",
              "     <output id=\"result-f8c90780-2846-4305-9671-4e47f4f17f19\">\n",
              "      Upload widget is only available when the cell has been executed in the\n",
              "      current browser session. Please rerun this cell to enable.\n",
              "      </output>\n",
              "      <script>// Copyright 2017 Google LLC\n",
              "//\n",
              "// Licensed under the Apache License, Version 2.0 (the \"License\");\n",
              "// you may not use this file except in compliance with the License.\n",
              "// You may obtain a copy of the License at\n",
              "//\n",
              "//      http://www.apache.org/licenses/LICENSE-2.0\n",
              "//\n",
              "// Unless required by applicable law or agreed to in writing, software\n",
              "// distributed under the License is distributed on an \"AS IS\" BASIS,\n",
              "// WITHOUT WARRANTIES OR CONDITIONS OF ANY KIND, either express or implied.\n",
              "// See the License for the specific language governing permissions and\n",
              "// limitations under the License.\n",
              "\n",
              "/**\n",
              " * @fileoverview Helpers for google.colab Python module.\n",
              " */\n",
              "(function(scope) {\n",
              "function span(text, styleAttributes = {}) {\n",
              "  const element = document.createElement('span');\n",
              "  element.textContent = text;\n",
              "  for (const key of Object.keys(styleAttributes)) {\n",
              "    element.style[key] = styleAttributes[key];\n",
              "  }\n",
              "  return element;\n",
              "}\n",
              "\n",
              "// Max number of bytes which will be uploaded at a time.\n",
              "const MAX_PAYLOAD_SIZE = 100 * 1024;\n",
              "\n",
              "function _uploadFiles(inputId, outputId) {\n",
              "  const steps = uploadFilesStep(inputId, outputId);\n",
              "  const outputElement = document.getElementById(outputId);\n",
              "  // Cache steps on the outputElement to make it available for the next call\n",
              "  // to uploadFilesContinue from Python.\n",
              "  outputElement.steps = steps;\n",
              "\n",
              "  return _uploadFilesContinue(outputId);\n",
              "}\n",
              "\n",
              "// This is roughly an async generator (not supported in the browser yet),\n",
              "// where there are multiple asynchronous steps and the Python side is going\n",
              "// to poll for completion of each step.\n",
              "// This uses a Promise to block the python side on completion of each step,\n",
              "// then passes the result of the previous step as the input to the next step.\n",
              "function _uploadFilesContinue(outputId) {\n",
              "  const outputElement = document.getElementById(outputId);\n",
              "  const steps = outputElement.steps;\n",
              "\n",
              "  const next = steps.next(outputElement.lastPromiseValue);\n",
              "  return Promise.resolve(next.value.promise).then((value) => {\n",
              "    // Cache the last promise value to make it available to the next\n",
              "    // step of the generator.\n",
              "    outputElement.lastPromiseValue = value;\n",
              "    return next.value.response;\n",
              "  });\n",
              "}\n",
              "\n",
              "/**\n",
              " * Generator function which is called between each async step of the upload\n",
              " * process.\n",
              " * @param {string} inputId Element ID of the input file picker element.\n",
              " * @param {string} outputId Element ID of the output display.\n",
              " * @return {!Iterable<!Object>} Iterable of next steps.\n",
              " */\n",
              "function* uploadFilesStep(inputId, outputId) {\n",
              "  const inputElement = document.getElementById(inputId);\n",
              "  inputElement.disabled = false;\n",
              "\n",
              "  const outputElement = document.getElementById(outputId);\n",
              "  outputElement.innerHTML = '';\n",
              "\n",
              "  const pickedPromise = new Promise((resolve) => {\n",
              "    inputElement.addEventListener('change', (e) => {\n",
              "      resolve(e.target.files);\n",
              "    });\n",
              "  });\n",
              "\n",
              "  const cancel = document.createElement('button');\n",
              "  inputElement.parentElement.appendChild(cancel);\n",
              "  cancel.textContent = 'Cancel upload';\n",
              "  const cancelPromise = new Promise((resolve) => {\n",
              "    cancel.onclick = () => {\n",
              "      resolve(null);\n",
              "    };\n",
              "  });\n",
              "\n",
              "  // Wait for the user to pick the files.\n",
              "  const files = yield {\n",
              "    promise: Promise.race([pickedPromise, cancelPromise]),\n",
              "    response: {\n",
              "      action: 'starting',\n",
              "    }\n",
              "  };\n",
              "\n",
              "  cancel.remove();\n",
              "\n",
              "  // Disable the input element since further picks are not allowed.\n",
              "  inputElement.disabled = true;\n",
              "\n",
              "  if (!files) {\n",
              "    return {\n",
              "      response: {\n",
              "        action: 'complete',\n",
              "      }\n",
              "    };\n",
              "  }\n",
              "\n",
              "  for (const file of files) {\n",
              "    const li = document.createElement('li');\n",
              "    li.append(span(file.name, {fontWeight: 'bold'}));\n",
              "    li.append(span(\n",
              "        `(${file.type || 'n/a'}) - ${file.size} bytes, ` +\n",
              "        `last modified: ${\n",
              "            file.lastModifiedDate ? file.lastModifiedDate.toLocaleDateString() :\n",
              "                                    'n/a'} - `));\n",
              "    const percent = span('0% done');\n",
              "    li.appendChild(percent);\n",
              "\n",
              "    outputElement.appendChild(li);\n",
              "\n",
              "    const fileDataPromise = new Promise((resolve) => {\n",
              "      const reader = new FileReader();\n",
              "      reader.onload = (e) => {\n",
              "        resolve(e.target.result);\n",
              "      };\n",
              "      reader.readAsArrayBuffer(file);\n",
              "    });\n",
              "    // Wait for the data to be ready.\n",
              "    let fileData = yield {\n",
              "      promise: fileDataPromise,\n",
              "      response: {\n",
              "        action: 'continue',\n",
              "      }\n",
              "    };\n",
              "\n",
              "    // Use a chunked sending to avoid message size limits. See b/62115660.\n",
              "    let position = 0;\n",
              "    do {\n",
              "      const length = Math.min(fileData.byteLength - position, MAX_PAYLOAD_SIZE);\n",
              "      const chunk = new Uint8Array(fileData, position, length);\n",
              "      position += length;\n",
              "\n",
              "      const base64 = btoa(String.fromCharCode.apply(null, chunk));\n",
              "      yield {\n",
              "        response: {\n",
              "          action: 'append',\n",
              "          file: file.name,\n",
              "          data: base64,\n",
              "        },\n",
              "      };\n",
              "\n",
              "      let percentDone = fileData.byteLength === 0 ?\n",
              "          100 :\n",
              "          Math.round((position / fileData.byteLength) * 100);\n",
              "      percent.textContent = `${percentDone}% done`;\n",
              "\n",
              "    } while (position < fileData.byteLength);\n",
              "  }\n",
              "\n",
              "  // All done.\n",
              "  yield {\n",
              "    response: {\n",
              "      action: 'complete',\n",
              "    }\n",
              "  };\n",
              "}\n",
              "\n",
              "scope.google = scope.google || {};\n",
              "scope.google.colab = scope.google.colab || {};\n",
              "scope.google.colab._files = {\n",
              "  _uploadFiles,\n",
              "  _uploadFilesContinue,\n",
              "};\n",
              "})(self);\n",
              "</script> "
            ]
          },
          "metadata": {}
        },
        {
          "output_type": "stream",
          "name": "stdout",
          "text": [
            "Saving kaggle.json to kaggle.json\n"
          ]
        },
        {
          "output_type": "execute_result",
          "data": {
            "text/plain": [
              "{'kaggle.json': b'{\"username\":\"mansimanno\",\"key\":\"9e56e686ba3e283e0456e3d62d0d3654\"}'}"
            ]
          },
          "metadata": {},
          "execution_count": 3
        }
      ]
    },
    {
      "cell_type": "code",
      "source": [
        "! mkdir ~/.kaggle\n",
        "! cp kaggle.json ~/.kaggle/"
      ],
      "metadata": {
        "colab": {
          "base_uri": "https://localhost:8080/"
        },
        "id": "FdZ4wWYT3ElA",
        "outputId": "3025603c-a54e-47bb-9201-90a6d6aa7312"
      },
      "execution_count": 4,
      "outputs": [
        {
          "output_type": "stream",
          "name": "stdout",
          "text": [
            "mkdir: cannot create directory ‘/root/.kaggle’: File exists\n"
          ]
        }
      ]
    },
    {
      "cell_type": "code",
      "source": [
        "! chmod 600 ~/.kaggle/kaggle.json"
      ],
      "metadata": {
        "id": "B3e5yCxD3QHG"
      },
      "execution_count": 5,
      "outputs": []
    },
    {
      "cell_type": "code",
      "source": [
        " ! kaggle datasets list"
      ],
      "metadata": {
        "colab": {
          "base_uri": "https://localhost:8080/"
        },
        "id": "zUgzwLiu3VGM",
        "outputId": "fe7338ed-d451-4dbd-a316-d3c4780d0cf2"
      },
      "execution_count": 6,
      "outputs": [
        {
          "output_type": "stream",
          "name": "stdout",
          "text": [
            "ref                                                        title                                           size  lastUpdated          downloadCount  voteCount  usabilityRating  \n",
            "---------------------------------------------------------  ---------------------------------------------  -----  -------------------  -------------  ---------  ---------------  \n",
            "salvatorerastelli/spotify-and-youtube                      Spotify and Youtube                              9MB  2023-03-20 15:43:25           5668        215  1.0              \n",
            "erdemtaha/cancer-data                                      Cancer Data                                     49KB  2023-03-22 07:57:00           1529         40  1.0              \n",
            "ulrikthygepedersen/fastfood-nutrition                      Fastfood Nutrition                              12KB  2023-03-21 10:02:41           1751         40  1.0              \n",
            "lokeshparab/amazon-products-dataset                        Amazon Products Sales Dataset 2023              80MB  2023-03-26 10:45:19           1994         46  1.0              \n",
            "rkiattisak/student-performance-in-mathematics              Student performance prediction                   9KB  2023-03-12 04:32:56           6879        148  1.0              \n",
            "abhishekrp1517/online-retail-transactions-dataset          Online Retail transactions Dataset              29MB  2023-03-28 16:53:16            938         37  0.9411765        \n",
            "ashishraut64/global-methane-emissions                      Global Emissions.                               31KB  2023-03-27 09:02:51           1956         45  1.0              \n",
            "ashishraut64/internet-users                                Global Internet users                          163KB  2023-03-29 12:25:13           1146         34  1.0              \n",
            "arnabchaki/popular-video-games-1980-2023                   Popular Video Games 1980 - 2023 🎮                1MB  2023-03-23 16:16:51           2889         86  1.0              \n",
            "dgoenrique/netflix-movies-and-tv-shows                     Netflix Movies and TV Shows                      2MB  2023-03-13 18:49:00           3217         84  1.0              \n",
            "priyanshuganwani09/entertainment-movies-tv-shows-database  Entertainment (movies, tv shows) Dataset        47KB  2023-04-02 17:52:36            581         23  1.0              \n",
            "muhammedzidan/car-prices-market                            Car Prices Market                              787KB  2023-04-01 10:07:17           1086         33  1.0              \n",
            "dgoenrique/amazon-prime-movies-and-tv-shows                Amazon Prime Movies and TV Shows                 4MB  2023-03-13 18:50:21           1074         31  1.0              \n",
            "lamiatabassum/top-50-us-tech-companies-2022-2023-dataset   USA Tech Companies Stats                         2KB  2023-03-25 06:06:20           1337         38  1.0              \n",
            "nidzsharma/us-mass-shootings-19822023                      Gun Violence, USA                               31KB  2023-03-28 06:32:25            677         27  0.9411765        \n",
            "usamabuttar/world-happiness-report-2005-present            World Happiness Report, 2005-Present           123KB  2023-03-25 17:38:26           1640         41  1.0              \n",
            "ivnlee/solar-energy-production                             Solar Energy Production                          3MB  2023-03-30 01:50:29            377         24  1.0              \n",
            "mehmettahiraslan/customer-shopping-dataset                 Customer Shopping Dataset - Retail Sales Data    2MB  2023-03-09 07:44:35           4311         85  1.0              \n",
            "rajkumarpandey02/list-of-unicorn-startup-companies         List of Unicorn Startup Companies               15KB  2023-03-27 10:19:49            473         31  1.0              \n",
            "dgoenrique/disney-movies-and-tv-shows                      Disney+ Movies and TV Shows                    850KB  2023-03-13 18:52:06           1556         42  1.0              \n"
          ]
        }
      ]
    },
    {
      "cell_type": "code",
      "source": [
        "!kaggle competitions download -c 'playground-series-s3e12'"
      ],
      "metadata": {
        "colab": {
          "base_uri": "https://localhost:8080/"
        },
        "id": "5LwMIaaM06hu",
        "outputId": "e678d0ac-8548-4642-87f7-bbdae47dbf19"
      },
      "execution_count": 7,
      "outputs": [
        {
          "output_type": "stream",
          "name": "stdout",
          "text": [
            "Downloading playground-series-s3e12.zip to /content\n",
            "\r  0% 0.00/9.06k [00:00<?, ?B/s]\n",
            "\r100% 9.06k/9.06k [00:00<00:00, 13.2MB/s]\n"
          ]
        }
      ]
    },
    {
      "cell_type": "code",
      "source": [
        "! unzip playground-series-s3e12.zip -d playground-series-s3e12"
      ],
      "metadata": {
        "colab": {
          "base_uri": "https://localhost:8080/"
        },
        "id": "XILT4t1p3hJG",
        "outputId": "bb796c1a-1552-4e9a-b333-d0d86be33b78"
      },
      "execution_count": 8,
      "outputs": [
        {
          "output_type": "stream",
          "name": "stdout",
          "text": [
            "Archive:  playground-series-s3e12.zip\n",
            "  inflating: playground-series-s3e12/sample_submission.csv  \n",
            "  inflating: playground-series-s3e12/test.csv  \n",
            "  inflating: playground-series-s3e12/train.csv  \n"
          ]
        }
      ]
    },
    {
      "cell_type": "code",
      "source": [
        "! unzip playground-series-s3e12.zip"
      ],
      "metadata": {
        "colab": {
          "base_uri": "https://localhost:8080/"
        },
        "id": "ttBfIiUK30gA",
        "outputId": "c3502f60-9a05-4cfd-caa4-d82e6f770b49"
      },
      "execution_count": 9,
      "outputs": [
        {
          "output_type": "stream",
          "name": "stdout",
          "text": [
            "Archive:  playground-series-s3e12.zip\n",
            "  inflating: sample_submission.csv   \n",
            "  inflating: test.csv                \n",
            "  inflating: train.csv               \n"
          ]
        }
      ]
    },
    {
      "cell_type": "code",
      "source": [
        "import matplotlib.pyplot as plt\n",
        "from sklearn.preprocessing import  MinMaxScaler,StandardScaler\n",
        "from sklearn.model_selection import KFold, cross_val_score, train_test_split\n",
        "from sklearn.ensemble import RandomForestClassifier\n",
        "from sklearn.metrics import confusion_matrix\n",
        "from sklearn.svm import SVC\n",
        "from sklearn.naive_bayes import MultinomialNB\n",
        "from sklearn.linear_model import LogisticRegression"
      ],
      "metadata": {
        "id": "z9jqGall4hjd"
      },
      "execution_count": 32,
      "outputs": []
    },
    {
      "cell_type": "code",
      "source": [
        "scaling= StandardScaler()\n",
        "import pandas as pd\n",
        "data= pd.read_csv(\"train.csv\")\n",
        "data\n"
      ],
      "metadata": {
        "colab": {
          "base_uri": "https://localhost:8080/"
        },
        "id": "DNYgr6EH648Q",
        "outputId": "bbf5c10e-cb20-486a-ebb9-2872fe141239"
      },
      "execution_count": 46,
      "outputs": [
        {
          "output_type": "stream",
          "name": "stdout",
          "text": [
            "     gravity    ph  osmo  cond  urea  calc\n",
            "0      1.013  6.19   443  14.8   124  1.45\n",
            "1      1.025  5.40   703  23.6   394  4.18\n",
            "2      1.009  6.13   371  24.5   159  9.04\n",
            "3      1.021  4.91   442  20.8   398  6.63\n",
            "4      1.021  5.53   874  17.8   385  2.21\n",
            "..       ...   ...   ...   ...   ...   ...\n",
            "409    1.011  5.21   527  21.4    75  1.53\n",
            "410    1.024  5.53   577  19.7   224  0.77\n",
            "411    1.018  6.28   455  22.2   270  7.68\n",
            "412    1.008  7.12   325  12.6    75  1.03\n",
            "413    1.011  6.13   364   9.9   159  0.27\n",
            "\n",
            "[414 rows x 6 columns]\n"
          ]
        }
      ]
    },
    {
      "cell_type": "code",
      "source": [
        "data_scaled= scaling.fit_transform(data)"
      ],
      "metadata": {
        "id": "QB1LAcQw-OhC"
      },
      "execution_count": 63,
      "outputs": []
    },
    {
      "cell_type": "code",
      "source": [
        "print(data_scaled)\n",
        "#plt.scatter(X_scaled['gravity'],data.target, c='g')"
      ],
      "metadata": {
        "colab": {
          "base_uri": "https://localhost:8080/"
        },
        "id": "K0uMHQYd6lCZ",
        "outputId": "013c1a55-a1ba-4b7f-f89f-98043b903092"
      },
      "execution_count": 64,
      "outputs": [
        {
          "output_type": "stream",
          "name": "stdout",
          "text": [
            "[[-1.72787215 -0.73403157  0.36562268 ... -1.13486936 -0.82913603\n",
            "  -0.89442719]\n",
            " [-1.71950473  1.06590369 -0.86589692 ...  0.84638411  0.02033832\n",
            "  -0.89442719]\n",
            " [-1.71113731 -1.33400999  0.27208954 ... -0.8780402   1.53258937\n",
            "  -0.89442719]\n",
            " ...\n",
            " [ 1.71113731  0.01594146  0.50592238 ... -0.06352489  1.109408\n",
            "   1.11803399]\n",
            " [ 1.71950473 -1.48400459  1.81538625 ... -1.49443017 -0.9598244\n",
            "   1.11803399]\n",
            " [ 1.72787215 -1.03402078  0.27208954 ... -0.8780402  -1.1963081\n",
            "  -0.89442719]]\n"
          ]
        }
      ]
    },
    {
      "cell_type": "code",
      "source": [
        "data['gravity'].describe()"
      ],
      "metadata": {
        "colab": {
          "base_uri": "https://localhost:8080/"
        },
        "id": "4urF8Nyz_NvH",
        "outputId": "ca4b067a-6c2c-40b5-e4f2-a229d535c4a4"
      },
      "execution_count": 66,
      "outputs": [
        {
          "output_type": "execute_result",
          "data": {
            "text/plain": [
              "count    414.000000\n",
              "mean       1.017894\n",
              "std        0.006675\n",
              "min        1.005000\n",
              "25%        1.012000\n",
              "50%        1.018000\n",
              "75%        1.022000\n",
              "max        1.040000\n",
              "Name: gravity, dtype: float64"
            ]
          },
          "metadata": {},
          "execution_count": 66
        }
      ]
    },
    {
      "cell_type": "code",
      "source": [
        "data.describe()"
      ],
      "metadata": {
        "colab": {
          "base_uri": "https://localhost:8080/",
          "height": 300
        },
        "id": "LJQJu22ZCaIl",
        "outputId": "ad082c89-fa17-49d1-b1ca-49d74a173f1b"
      },
      "execution_count": 67,
      "outputs": [
        {
          "output_type": "execute_result",
          "data": {
            "text/plain": [
              "               id     gravity          ph         osmo        cond  \\\n",
              "count  414.000000  414.000000  414.000000   414.000000  414.000000   \n",
              "mean   206.500000    1.017894    5.955459   651.545894   21.437923   \n",
              "std    119.655756    0.006675    0.642260   234.676567    7.514750   \n",
              "min      0.000000    1.005000    4.760000   187.000000    5.100000   \n",
              "25%    103.250000    1.012000    5.530000   455.250000   15.500000   \n",
              "50%    206.500000    1.018000    5.740000   679.500000   22.200000   \n",
              "75%    309.750000    1.022000    6.280000   840.000000   27.600000   \n",
              "max    413.000000    1.040000    7.940000  1236.000000   38.000000   \n",
              "\n",
              "             urea        calc      target  \n",
              "count  414.000000  414.000000  414.000000  \n",
              "mean   278.657005    4.114638    0.444444  \n",
              "std    136.442249    3.217641    0.497505  \n",
              "min     10.000000    0.170000    0.000000  \n",
              "25%    170.000000    1.450000    0.000000  \n",
              "50%    277.000000    3.130000    0.000000  \n",
              "75%    385.000000    6.630000    1.000000  \n",
              "max    620.000000   14.340000    1.000000  "
            ],
            "text/html": [
              "\n",
              "  <div id=\"df-c7832df7-5436-4f1d-aafe-7822bdbfafa3\">\n",
              "    <div class=\"colab-df-container\">\n",
              "      <div>\n",
              "<style scoped>\n",
              "    .dataframe tbody tr th:only-of-type {\n",
              "        vertical-align: middle;\n",
              "    }\n",
              "\n",
              "    .dataframe tbody tr th {\n",
              "        vertical-align: top;\n",
              "    }\n",
              "\n",
              "    .dataframe thead th {\n",
              "        text-align: right;\n",
              "    }\n",
              "</style>\n",
              "<table border=\"1\" class=\"dataframe\">\n",
              "  <thead>\n",
              "    <tr style=\"text-align: right;\">\n",
              "      <th></th>\n",
              "      <th>id</th>\n",
              "      <th>gravity</th>\n",
              "      <th>ph</th>\n",
              "      <th>osmo</th>\n",
              "      <th>cond</th>\n",
              "      <th>urea</th>\n",
              "      <th>calc</th>\n",
              "      <th>target</th>\n",
              "    </tr>\n",
              "  </thead>\n",
              "  <tbody>\n",
              "    <tr>\n",
              "      <th>count</th>\n",
              "      <td>414.000000</td>\n",
              "      <td>414.000000</td>\n",
              "      <td>414.000000</td>\n",
              "      <td>414.000000</td>\n",
              "      <td>414.000000</td>\n",
              "      <td>414.000000</td>\n",
              "      <td>414.000000</td>\n",
              "      <td>414.000000</td>\n",
              "    </tr>\n",
              "    <tr>\n",
              "      <th>mean</th>\n",
              "      <td>206.500000</td>\n",
              "      <td>1.017894</td>\n",
              "      <td>5.955459</td>\n",
              "      <td>651.545894</td>\n",
              "      <td>21.437923</td>\n",
              "      <td>278.657005</td>\n",
              "      <td>4.114638</td>\n",
              "      <td>0.444444</td>\n",
              "    </tr>\n",
              "    <tr>\n",
              "      <th>std</th>\n",
              "      <td>119.655756</td>\n",
              "      <td>0.006675</td>\n",
              "      <td>0.642260</td>\n",
              "      <td>234.676567</td>\n",
              "      <td>7.514750</td>\n",
              "      <td>136.442249</td>\n",
              "      <td>3.217641</td>\n",
              "      <td>0.497505</td>\n",
              "    </tr>\n",
              "    <tr>\n",
              "      <th>min</th>\n",
              "      <td>0.000000</td>\n",
              "      <td>1.005000</td>\n",
              "      <td>4.760000</td>\n",
              "      <td>187.000000</td>\n",
              "      <td>5.100000</td>\n",
              "      <td>10.000000</td>\n",
              "      <td>0.170000</td>\n",
              "      <td>0.000000</td>\n",
              "    </tr>\n",
              "    <tr>\n",
              "      <th>25%</th>\n",
              "      <td>103.250000</td>\n",
              "      <td>1.012000</td>\n",
              "      <td>5.530000</td>\n",
              "      <td>455.250000</td>\n",
              "      <td>15.500000</td>\n",
              "      <td>170.000000</td>\n",
              "      <td>1.450000</td>\n",
              "      <td>0.000000</td>\n",
              "    </tr>\n",
              "    <tr>\n",
              "      <th>50%</th>\n",
              "      <td>206.500000</td>\n",
              "      <td>1.018000</td>\n",
              "      <td>5.740000</td>\n",
              "      <td>679.500000</td>\n",
              "      <td>22.200000</td>\n",
              "      <td>277.000000</td>\n",
              "      <td>3.130000</td>\n",
              "      <td>0.000000</td>\n",
              "    </tr>\n",
              "    <tr>\n",
              "      <th>75%</th>\n",
              "      <td>309.750000</td>\n",
              "      <td>1.022000</td>\n",
              "      <td>6.280000</td>\n",
              "      <td>840.000000</td>\n",
              "      <td>27.600000</td>\n",
              "      <td>385.000000</td>\n",
              "      <td>6.630000</td>\n",
              "      <td>1.000000</td>\n",
              "    </tr>\n",
              "    <tr>\n",
              "      <th>max</th>\n",
              "      <td>413.000000</td>\n",
              "      <td>1.040000</td>\n",
              "      <td>7.940000</td>\n",
              "      <td>1236.000000</td>\n",
              "      <td>38.000000</td>\n",
              "      <td>620.000000</td>\n",
              "      <td>14.340000</td>\n",
              "      <td>1.000000</td>\n",
              "    </tr>\n",
              "  </tbody>\n",
              "</table>\n",
              "</div>\n",
              "      <button class=\"colab-df-convert\" onclick=\"convertToInteractive('df-c7832df7-5436-4f1d-aafe-7822bdbfafa3')\"\n",
              "              title=\"Convert this dataframe to an interactive table.\"\n",
              "              style=\"display:none;\">\n",
              "        \n",
              "  <svg xmlns=\"http://www.w3.org/2000/svg\" height=\"24px\"viewBox=\"0 0 24 24\"\n",
              "       width=\"24px\">\n",
              "    <path d=\"M0 0h24v24H0V0z\" fill=\"none\"/>\n",
              "    <path d=\"M18.56 5.44l.94 2.06.94-2.06 2.06-.94-2.06-.94-.94-2.06-.94 2.06-2.06.94zm-11 1L8.5 8.5l.94-2.06 2.06-.94-2.06-.94L8.5 2.5l-.94 2.06-2.06.94zm10 10l.94 2.06.94-2.06 2.06-.94-2.06-.94-.94-2.06-.94 2.06-2.06.94z\"/><path d=\"M17.41 7.96l-1.37-1.37c-.4-.4-.92-.59-1.43-.59-.52 0-1.04.2-1.43.59L10.3 9.45l-7.72 7.72c-.78.78-.78 2.05 0 2.83L4 21.41c.39.39.9.59 1.41.59.51 0 1.02-.2 1.41-.59l7.78-7.78 2.81-2.81c.8-.78.8-2.07 0-2.86zM5.41 20L4 18.59l7.72-7.72 1.47 1.35L5.41 20z\"/>\n",
              "  </svg>\n",
              "      </button>\n",
              "      \n",
              "  <style>\n",
              "    .colab-df-container {\n",
              "      display:flex;\n",
              "      flex-wrap:wrap;\n",
              "      gap: 12px;\n",
              "    }\n",
              "\n",
              "    .colab-df-convert {\n",
              "      background-color: #E8F0FE;\n",
              "      border: none;\n",
              "      border-radius: 50%;\n",
              "      cursor: pointer;\n",
              "      display: none;\n",
              "      fill: #1967D2;\n",
              "      height: 32px;\n",
              "      padding: 0 0 0 0;\n",
              "      width: 32px;\n",
              "    }\n",
              "\n",
              "    .colab-df-convert:hover {\n",
              "      background-color: #E2EBFA;\n",
              "      box-shadow: 0px 1px 2px rgba(60, 64, 67, 0.3), 0px 1px 3px 1px rgba(60, 64, 67, 0.15);\n",
              "      fill: #174EA6;\n",
              "    }\n",
              "\n",
              "    [theme=dark] .colab-df-convert {\n",
              "      background-color: #3B4455;\n",
              "      fill: #D2E3FC;\n",
              "    }\n",
              "\n",
              "    [theme=dark] .colab-df-convert:hover {\n",
              "      background-color: #434B5C;\n",
              "      box-shadow: 0px 1px 3px 1px rgba(0, 0, 0, 0.15);\n",
              "      filter: drop-shadow(0px 1px 2px rgba(0, 0, 0, 0.3));\n",
              "      fill: #FFFFFF;\n",
              "    }\n",
              "  </style>\n",
              "\n",
              "      <script>\n",
              "        const buttonEl =\n",
              "          document.querySelector('#df-c7832df7-5436-4f1d-aafe-7822bdbfafa3 button.colab-df-convert');\n",
              "        buttonEl.style.display =\n",
              "          google.colab.kernel.accessAllowed ? 'block' : 'none';\n",
              "\n",
              "        async function convertToInteractive(key) {\n",
              "          const element = document.querySelector('#df-c7832df7-5436-4f1d-aafe-7822bdbfafa3');\n",
              "          const dataTable =\n",
              "            await google.colab.kernel.invokeFunction('convertToInteractive',\n",
              "                                                     [key], {});\n",
              "          if (!dataTable) return;\n",
              "\n",
              "          const docLinkHtml = 'Like what you see? Visit the ' +\n",
              "            '<a target=\"_blank\" href=https://colab.research.google.com/notebooks/data_table.ipynb>data table notebook</a>'\n",
              "            + ' to learn more about interactive tables.';\n",
              "          element.innerHTML = '';\n",
              "          dataTable['output_type'] = 'display_data';\n",
              "          await google.colab.output.renderOutput(dataTable, element);\n",
              "          const docLink = document.createElement('div');\n",
              "          docLink.innerHTML = docLinkHtml;\n",
              "          element.appendChild(docLink);\n",
              "        }\n",
              "      </script>\n",
              "    </div>\n",
              "  </div>\n",
              "  "
            ]
          },
          "metadata": {},
          "execution_count": 67
        }
      ]
    },
    {
      "cell_type": "code",
      "source": [
        "data= data[~(data['urea']>525)]\n",
        "data=data[~(data['urea']<50)]\n",
        "print(data)\n",
        "\n",
        "\n",
        "\n",
        "data_scaled= scaling.fit_transform(data)\n",
        "print(data_scaled)\n",
        "X= data_scaled[:, :5]\n",
        "Y= data_scaled[:,6]\n"
      ],
      "metadata": {
        "colab": {
          "base_uri": "https://localhost:8080/"
        },
        "id": "1DGU-NyfCp8_",
        "outputId": "9d835958-141c-4936-95d4-a6a1ef219597"
      },
      "execution_count": 98,
      "outputs": [
        {
          "output_type": "stream",
          "name": "stdout",
          "text": [
            "     gravity    ph  osmo  cond  urea  calc  target\n",
            "0      1.013  6.19   443  14.8   124  1.45       0\n",
            "1      1.025  5.40   703  23.6   394  4.18       0\n",
            "2      1.009  6.13   371  24.5   159  9.04       0\n",
            "3      1.021  4.91   442  20.8   398  6.63       1\n",
            "4      1.021  5.53   874  17.8   385  2.21       1\n",
            "..       ...   ...   ...   ...   ...   ...     ...\n",
            "409    1.011  5.21   527  21.4    75  1.53       0\n",
            "410    1.024  5.53   577  19.7   224  0.77       0\n",
            "411    1.018  6.28   455  22.2   270  7.68       1\n",
            "412    1.008  7.12   325  12.6    75  1.03       1\n",
            "413    1.011  6.13   364   9.9   159  0.27       0\n",
            "\n",
            "[387 rows x 7 columns]\n",
            "[[-0.69740762  0.34786487 -0.87367978 ... -1.17410745 -0.81208123\n",
            "  -0.88975652]\n",
            " [ 1.16394927 -0.88392486  0.35806549 ...  1.13308192  0.07534437\n",
            "  -0.88975652]\n",
            " [-1.31785991  0.25431121 -1.21477847 ... -0.87502734  1.65515697\n",
            "  -0.88975652]\n",
            " ...\n",
            " [ 0.07815775  0.48819534 -0.81683    ...  0.07348384  1.21306949\n",
            "   1.12390297]\n",
            " [-1.47297299  1.79794645 -1.43270264 ... -1.59281959 -0.94860825\n",
            "   1.12390297]\n",
            " [-1.00763376  0.25431121 -1.24794085 ... -0.87502734 -1.19565713\n",
            "  -0.88975652]]\n",
            "[[-0.69740762  0.34786487 -0.87367978 -0.85203063 -1.17410745]\n",
            " [ 1.16394927 -0.88392486  0.35806549  0.3166803   1.13308192]\n",
            " [-1.31785991  0.25431121 -1.21477847  0.43620756 -0.87502734]\n",
            " ...\n",
            " [ 0.07815775  0.48819534 -0.81683     0.13074902  0.07348384]\n",
            " [-1.47297299  1.79794645 -1.43270264 -1.14420836 -1.59281959]\n",
            " [-1.00763376  0.25431121 -1.24794085 -1.50279012 -0.87502734]] wef [-0.88975652 -0.88975652 -0.88975652  1.12390297  1.12390297  1.12390297\n",
            "  1.12390297 -0.88975652 -0.88975652  1.12390297  1.12390297 -0.88975652\n",
            "  1.12390297  1.12390297 -0.88975652  1.12390297 -0.88975652 -0.88975652\n",
            " -0.88975652  1.12390297 -0.88975652  1.12390297  1.12390297 -0.88975652\n",
            "  1.12390297 -0.88975652 -0.88975652 -0.88975652 -0.88975652 -0.88975652\n",
            " -0.88975652 -0.88975652 -0.88975652 -0.88975652  1.12390297 -0.88975652\n",
            " -0.88975652 -0.88975652 -0.88975652 -0.88975652 -0.88975652  1.12390297\n",
            " -0.88975652  1.12390297 -0.88975652  1.12390297 -0.88975652  1.12390297\n",
            " -0.88975652 -0.88975652  1.12390297 -0.88975652 -0.88975652 -0.88975652\n",
            " -0.88975652 -0.88975652  1.12390297 -0.88975652  1.12390297  1.12390297\n",
            " -0.88975652  1.12390297  1.12390297 -0.88975652  1.12390297 -0.88975652\n",
            "  1.12390297  1.12390297  1.12390297 -0.88975652 -0.88975652 -0.88975652\n",
            "  1.12390297 -0.88975652 -0.88975652  1.12390297 -0.88975652 -0.88975652\n",
            "  1.12390297 -0.88975652 -0.88975652 -0.88975652 -0.88975652 -0.88975652\n",
            " -0.88975652  1.12390297  1.12390297 -0.88975652 -0.88975652  1.12390297\n",
            "  1.12390297  1.12390297 -0.88975652 -0.88975652 -0.88975652  1.12390297\n",
            " -0.88975652  1.12390297 -0.88975652 -0.88975652  1.12390297 -0.88975652\n",
            " -0.88975652  1.12390297  1.12390297  1.12390297  1.12390297  1.12390297\n",
            "  1.12390297  1.12390297 -0.88975652 -0.88975652 -0.88975652  1.12390297\n",
            " -0.88975652  1.12390297  1.12390297 -0.88975652 -0.88975652 -0.88975652\n",
            " -0.88975652  1.12390297  1.12390297  1.12390297 -0.88975652 -0.88975652\n",
            " -0.88975652 -0.88975652 -0.88975652 -0.88975652 -0.88975652 -0.88975652\n",
            " -0.88975652  1.12390297 -0.88975652  1.12390297  1.12390297 -0.88975652\n",
            "  1.12390297  1.12390297  1.12390297 -0.88975652 -0.88975652 -0.88975652\n",
            "  1.12390297 -0.88975652 -0.88975652  1.12390297 -0.88975652  1.12390297\n",
            " -0.88975652  1.12390297 -0.88975652 -0.88975652 -0.88975652 -0.88975652\n",
            " -0.88975652  1.12390297  1.12390297  1.12390297  1.12390297 -0.88975652\n",
            " -0.88975652  1.12390297 -0.88975652  1.12390297  1.12390297 -0.88975652\n",
            " -0.88975652 -0.88975652 -0.88975652  1.12390297 -0.88975652  1.12390297\n",
            " -0.88975652 -0.88975652  1.12390297  1.12390297 -0.88975652  1.12390297\n",
            "  1.12390297 -0.88975652  1.12390297 -0.88975652  1.12390297 -0.88975652\n",
            " -0.88975652 -0.88975652  1.12390297  1.12390297  1.12390297 -0.88975652\n",
            "  1.12390297  1.12390297  1.12390297  1.12390297 -0.88975652  1.12390297\n",
            " -0.88975652 -0.88975652 -0.88975652  1.12390297 -0.88975652 -0.88975652\n",
            "  1.12390297  1.12390297  1.12390297 -0.88975652  1.12390297  1.12390297\n",
            " -0.88975652 -0.88975652 -0.88975652  1.12390297  1.12390297  1.12390297\n",
            " -0.88975652 -0.88975652 -0.88975652  1.12390297 -0.88975652 -0.88975652\n",
            "  1.12390297  1.12390297  1.12390297  1.12390297  1.12390297 -0.88975652\n",
            "  1.12390297 -0.88975652  1.12390297  1.12390297 -0.88975652 -0.88975652\n",
            "  1.12390297  1.12390297 -0.88975652  1.12390297  1.12390297  1.12390297\n",
            " -0.88975652 -0.88975652  1.12390297  1.12390297 -0.88975652 -0.88975652\n",
            " -0.88975652  1.12390297 -0.88975652 -0.88975652 -0.88975652  1.12390297\n",
            " -0.88975652 -0.88975652 -0.88975652  1.12390297 -0.88975652  1.12390297\n",
            "  1.12390297 -0.88975652  1.12390297 -0.88975652 -0.88975652  1.12390297\n",
            "  1.12390297  1.12390297  1.12390297  1.12390297  1.12390297 -0.88975652\n",
            " -0.88975652  1.12390297  1.12390297 -0.88975652  1.12390297  1.12390297\n",
            "  1.12390297 -0.88975652 -0.88975652  1.12390297  1.12390297 -0.88975652\n",
            " -0.88975652  1.12390297  1.12390297 -0.88975652  1.12390297 -0.88975652\n",
            " -0.88975652 -0.88975652  1.12390297 -0.88975652 -0.88975652  1.12390297\n",
            " -0.88975652 -0.88975652 -0.88975652 -0.88975652 -0.88975652 -0.88975652\n",
            " -0.88975652 -0.88975652  1.12390297 -0.88975652 -0.88975652 -0.88975652\n",
            "  1.12390297 -0.88975652  1.12390297 -0.88975652 -0.88975652  1.12390297\n",
            " -0.88975652 -0.88975652  1.12390297 -0.88975652 -0.88975652  1.12390297\n",
            " -0.88975652  1.12390297 -0.88975652  1.12390297  1.12390297 -0.88975652\n",
            " -0.88975652 -0.88975652  1.12390297 -0.88975652  1.12390297 -0.88975652\n",
            "  1.12390297 -0.88975652 -0.88975652  1.12390297  1.12390297  1.12390297\n",
            " -0.88975652  1.12390297 -0.88975652  1.12390297  1.12390297 -0.88975652\n",
            " -0.88975652 -0.88975652 -0.88975652 -0.88975652 -0.88975652  1.12390297\n",
            " -0.88975652  1.12390297  1.12390297 -0.88975652  1.12390297 -0.88975652\n",
            " -0.88975652 -0.88975652 -0.88975652 -0.88975652  1.12390297  1.12390297\n",
            " -0.88975652  1.12390297 -0.88975652 -0.88975652  1.12390297 -0.88975652\n",
            "  1.12390297  1.12390297 -0.88975652 -0.88975652  1.12390297 -0.88975652\n",
            " -0.88975652  1.12390297  1.12390297  1.12390297  1.12390297 -0.88975652\n",
            " -0.88975652 -0.88975652  1.12390297  1.12390297 -0.88975652 -0.88975652\n",
            "  1.12390297  1.12390297 -0.88975652]\n"
          ]
        }
      ]
    }
  ]
}